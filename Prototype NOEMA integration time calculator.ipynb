{
 "cells": [
  {
   "cell_type": "markdown",
   "metadata": {},
   "source": [
    "This is an IPython notebook containing my NOEMA integration time calculations. Currently it focuses on observations of our five Perseus protostars.\n",
    "\n",
    "**Summary**: I can hit the four remaining protostars at **H13CN 3-2 with ~10 sigma** sensitivity in a **total of 2.5 hours _*including overhead*_**.\n",
    "In addition, if we wanted to observe the **H13CN 1-0** line toward each star, the total time would be **less than 2 hours**, dominated by overhead -- the on-source time is less than 2 minutes total."
   ]
  },
  {
   "cell_type": "code",
   "execution_count": 130,
   "metadata": {
    "collapsed": false
   },
   "outputs": [
    {
     "name": "stdout",
     "output_type": "stream",
     "text": [
      "9.74389944472 mJy\n"
     ]
    }
   ],
   "source": [
    "\"\"\"\n",
    "A simple exposure-time calculator based in an IPython Notebook.\n",
    "\n",
    "Equations and terminology derive directly from \n",
    "http://www.iram.fr/GENERAL/calls/w16/NOEMACapabilities.pdf\n",
    "\"IRAM NOEMA interferometer: Observing Capabilities and Current Status\",\n",
    "particularly Section 2.5: Signal to Noise.\n",
    "\n",
    "\"\"\"\n",
    "\n",
    "from __future__ import division\n",
    "\n",
    "import numpy as np\n",
    "\n",
    "import astropy.units as u\n",
    "import astropy.constants as c\n",
    "\n",
    "### Signal-to-noise.\n",
    "#   The rms noise for a point source can be computed from\n",
    "#\n",
    "#   sigma = ( J_pK * T_sys / (eta * np.sqrt(N_a * (N_a -1) * T_ON * B)) *\n",
    "#             1 / np.sqrt(N_pol) )\n",
    "#\n",
    "#   where\n",
    "#   * J_pK is the conversion factor from Kelvin to Jansky (22 Jy/K in band 1,\n",
    "#     29 Jy/K in band 2, and 35 Jy/K in band 3.\n",
    "\n",
    "J_pK = {'1': 22 * u.Jy/u.K, \n",
    "        '2': 29 * u.Jy/u.K,\n",
    "        '3': 35 * u.Jy/u.K}\n",
    "\n",
    "#   * eta is an additional efficiency factor due to atmospheric phase noise.\n",
    "#     These factors take into account average phase stability in typical winter conditions.\n",
    "\n",
    "eta = {'1': 0.9,\n",
    "       '2': 0.85,\n",
    "       '3': 0.8}\n",
    "\n",
    "#   * T_sys is the system temperature. For typical winter conditions:\n",
    "\n",
    "def T_sys(frequency):\n",
    "    if frequency <= 110 * u.GHz:\n",
    "        return 90 * u.K\n",
    "    elif frequency <= 116 * u.GHz:\n",
    "        return 175 * u.K\n",
    "    elif frequency <= 150 * u.GHz:\n",
    "        return 130 * u.K\n",
    "    elif frequency <= 178 * u.GHz:\n",
    "        return 170 * u.K\n",
    "    else: \n",
    "        return 200 * u.K\n",
    "#   These values apply for sources at elevation >= 20 deg.\n",
    "\n",
    "#   * N_a is the number of antennas: currently 8 when using WideX \n",
    "#     but N_a = 6 for spectral resolutions better than 2 MHz with  \n",
    "#     the narrow-band correlator.\n",
    "\n",
    "N_a = 8\n",
    "\n",
    "#   * T_ON is the on-source integration time in seconds: 2 to 8 \n",
    "#     hours, depending on source declination. Because of various\n",
    "#     calibration overheads, the total observing time is typically\n",
    "#     1.6 T_ON.\n",
    "\n",
    "#   * B is the spectral bandwidth in Hz: 40 kHz to 1.25 MHz for \n",
    "#     spectral line observations using the narrow-band correlator,\n",
    "#     and from 2 MHz up to 3.6 GHz when using WideX.\n",
    "B = 2 * u.MHz\n",
    "\n",
    "#   * N_pol is the number of polarizations: 1 for single-\n",
    "#     polarization and 2 for dual polarization.\n",
    "N_pol = 2\n",
    "\n",
    "def band_from_frequency(frequency):\n",
    "    nu = frequency\n",
    "    if (nu >= 76.5*u.GHz) and (nu <= 116*u.GHz):\n",
    "        return '1'\n",
    "    elif (nu >= 130*u.GHz) and (nu <= 178*u.GHz):\n",
    "        return '2'\n",
    "    elif (nu >= 202*u.GHz) and (nu <= 274*u.GHz):\n",
    "        return '3'\n",
    "    else:\n",
    "        raise ValueError(\"Frequency is not in a valid band (76.5-116, 130-178, or 202-274 GHz).\")\n",
    "\n",
    "def sigma_from_integration_time(T_ON, frequency=None, B=B):\n",
    "    nu = u.Quantity(frequency, u.GHz)\n",
    "    \n",
    "    band = band_from_frequency(nu)\n",
    "    \n",
    "    sigma = ( J_pK[band] * T_sys(nu) / (eta[band] * np.sqrt(N_a * (N_a-1) * T_ON * B)) *\n",
    "              1 / np.sqrt(N_pol) )\n",
    "    \n",
    "    return sigma.to(u.Jy)\n",
    "\n",
    "result = sigma_from_integration_time(1*u.hr, frequency=259*u.GHz)\n",
    "print result.to(u.mJy)"
   ]
  },
  {
   "cell_type": "code",
   "execution_count": 131,
   "metadata": {
    "collapsed": false
   },
   "outputs": [
    {
     "name": "stdout",
     "output_type": "stream",
     "text": [
      "Test the capabilities of my calculator against the reference values from\n",
      "section 2.4.1 of \"An Introduction to the IRAM NOEMA interferometer\"\n",
      "\n",
      "  @ 90 GHz\n",
      "Calculated: 0.058 mJy    Expected: 0.06 mJy\n",
      "  @ 150 GHz \n",
      "Calculated: 0.116 mJy    Expected: 0.12 mJy\n",
      "  @ 150 GHz \n",
      "Calculated: 0.230 mJy    Expected: 0.23 mJy\n"
     ]
    }
   ],
   "source": [
    "print 'Test the capabilities of my calculator against the reference values from'\n",
    "print 'section 2.4.1 of \"An Introduction to the IRAM NOEMA interferometer\"'\n",
    "print \"\"\n",
    "\n",
    "\n",
    "sigma_90_test = sigma_from_integration_time(1*u.hr, frequency=90*u.GHz, B=3.6*u.GHz)\n",
    "print \"  @ 90 GHz\"\n",
    "print \"Calculated: {0:.3f}    Expected: 0.06 mJy\".format(sigma_90_test.to(u.mJy))\n",
    "sigma_150_test = sigma_from_integration_time(1*u.hr, frequency=150*u.GHz, B=3.6*u.GHz)\n",
    "print \"  @ 150 GHz \"\n",
    "print \"Calculated: {0:.3f}    Expected: 0.12 mJy\".format(sigma_150_test.to(u.mJy))\n",
    "sigma_230_test = sigma_from_integration_time(1*u.hr, frequency=230*u.GHz, B=3.6*u.GHz)\n",
    "print \"  @ 150 GHz \"\n",
    "print \"Calculated: {0:.3f}    Expected: 0.23 mJy\".format(sigma_230_test.to(u.mJy))"
   ]
  },
  {
   "cell_type": "code",
   "execution_count": 132,
   "metadata": {
    "collapsed": false
   },
   "outputs": [
    {
     "name": "stdout",
     "output_type": "stream",
     "text": [
      "S/N reached in 1 hour for each source:\n",
      "15.8, 20.3, 13.5, 17.1, 30.5, \n",
      "\n",
      "List of integration times needed to hit 10-sigma on the H13CN J=3-2 line:\n",
      "0.40 h, 0.24 h, 0.55 h, 0.34 h, 0.11 h, \n",
      "\n",
      "Total (on-source) time for 3-2 observations: 1.540 h\n",
      "Time for 3-2 observations with overheads: 2.464 h\n"
     ]
    }
   ],
   "source": [
    "# These are the 3-2 fluxes for the five protostars\n",
    "flux_array_3_2 = np.array([192,\n",
    "                          247,\n",
    "                          164,\n",
    "                          208,\n",
    "                          371]) * u.mJy * 0.8\n",
    "\n",
    "print \"S/N reached in 1 hour for each source:\"\n",
    "for x in (flux_array_3_2 / result).decompose():\n",
    "    print \"{0:.1f},\".format(x),\n",
    "print \"\"\n",
    "print \"\"\n",
    "\n",
    "# time_list_3_2 = np.array([0.27, 0.16, 0.36, 0.22, 0]) * u.hr\n",
    "time_list_3_2 = (10 / (flux_array_3_2 / result).decompose())**2 * u.hr\n",
    "\n",
    "print \"List of integration times needed to hit 10-sigma on the H13CN J=3-2 line:\"\n",
    "for x in time_list_3_2:\n",
    "    print \"{0:.2f},\".format(x),\n",
    "print \"\"\n",
    "\n",
    "time_list_3_2[4] = 0\n",
    "sensitivity_array = u.Quantity([sigma_from_integration_time(x, frequency=259*u.GHz) for x in time_list_3_2])\n",
    "\n",
    "print \"\"\n",
    "print \"Total (on-source) time for 3-2 observations: {0:.3f}\".format(np.sum(time_list_3_2))\n",
    "print \"Time for 3-2 observations with overheads: {0:.3f}\".format(np.sum(time_list_3_2)*1.6)"
   ]
  },
  {
   "cell_type": "code",
   "execution_count": 133,
   "metadata": {
    "collapsed": false
   },
   "outputs": [
    {
     "name": "stdout",
     "output_type": "stream",
     "text": [
      "2.44989471753 mJy\n"
     ]
    }
   ],
   "source": [
    "freq_3mm = 86.340 * u.GHz\n",
    "\n",
    "# one hour at 86 GHz gives us what sensitivity?\n",
    "result_3mm = sigma_from_integration_time(1*u.hr, frequency=freq_3mm)\n",
    "print result_3mm.to(u.mJy)"
   ]
  },
  {
   "cell_type": "code",
   "execution_count": 136,
   "metadata": {
    "collapsed": false
   },
   "outputs": [
    {
     "name": "stdout",
     "output_type": "stream",
     "text": [
      "[ 0.00123901  0.00264899  0.00327648  0.00586131  0.00463116] h\n",
      "[  4.46045194   9.53637758  11.79532211  21.10072545  16.67217813] s\n",
      "\n",
      "Total (on-source) time for 1-0 observations: 1.059 min\n",
      "Time for 1-0 observations with overheads: 1.695 min\n"
     ]
    }
   ],
   "source": [
    "# These are the 1-0 fluxes for the five protostars\n",
    "flux_array_1_0 = np.array([1.74,\n",
    "                          1.19,\n",
    "                          1.07,\n",
    "                          0.80,\n",
    "                          0.90]) * u.Jy * 0.8 \n",
    "\n",
    "time_list_1_0 = (20 / (flux_array_1_0 / result_3mm).decompose())**2 * u.hr\n",
    "\n",
    "print time_list_1_0\n",
    "print time_list_1_0.to(u.s)\n",
    "\n",
    "sensitivity_array_3mm = u.Quantity([sigma_from_integration_time(x, frequency=freq_3mm) for x in time_list_1_0])\n",
    "\n",
    "print \"\"\n",
    "print \"Total (on-source) time for 1-0 observations: {0:.3f}\".format(np.sum(time_list_1_0.to(u.min)))\n",
    "print \"Time for 1-0 observations with overheads: {0:.3f}\".format(np.sum(time_list_1_0.to(u.min))*1.6)"
   ]
  }
 ],
 "metadata": {
  "kernelspec": {
   "display_name": "Python 2",
   "language": "python",
   "name": "python2"
  },
  "language_info": {
   "codemirror_mode": {
    "name": "ipython",
    "version": 2
   },
   "file_extension": ".py",
   "mimetype": "text/x-python",
   "name": "python",
   "nbconvert_exporter": "python",
   "pygments_lexer": "ipython2",
   "version": "2.7.12"
  }
 },
 "nbformat": 4,
 "nbformat_minor": 0
}
